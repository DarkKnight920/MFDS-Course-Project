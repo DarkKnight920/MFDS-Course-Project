{
 "cells": [
  {
   "cell_type": "code",
   "execution_count": 1,
   "id": "9761d39f-622c-4a66-be66-2024cfef834e",
   "metadata": {},
   "outputs": [],
   "source": [
    "def categorical_similarity(template, student_answer):\n",
    "    template_words = set(template.split())\n",
    "    student_words = set(student_answer.split())\n",
    "    return \"right\" if template_words == student_words else \"wrong\"\n"
   ]
  },
  {
   "cell_type": "code",
   "execution_count": 2,
   "id": "47705aa2-878c-44d6-bce7-745485ef8d1b",
   "metadata": {},
   "outputs": [],
   "source": [
    "from sklearn.feature_extraction.text import CountVectorizer\n",
    "from sklearn.metrics.pairwise import cosine_similarity\n",
    "\n",
    "def continuous_similarity(template, student_answer):\n",
    "    vectorizer = CountVectorizer().fit_transform([template, student_answer])\n",
    "    vectors = vectorizer.toarray()\n",
    "    cosine_sim = cosine_similarity(vectors)\n",
    "    return cosine_sim[0][1]\n"
   ]
  },
  {
   "cell_type": "code",
   "execution_count": 3,
   "id": "c5dc6772-c39c-4031-ae9e-18450e94c2a9",
   "metadata": {},
   "outputs": [],
   "source": [
    "def jaccard_similarity(template, student_answer):\n",
    "    template_words = set(template.split())\n",
    "    student_words = set(student_answer.split())\n",
    "    intersection = template_words.intersectioxn(student_words)\n",
    "    union = template_words.union(student_words)\n",
    "    return len(intersection) / len(union)\n"
   ]
  },
  {
   "cell_type": "code",
   "execution_count": 6,
   "id": "9e5e3344-e14a-426a-896c-9b4de802f0ee",
   "metadata": {},
   "outputs": [],
   "source": [
    "def evaluate_answer(template, student_answer, threshold=0.6):\n",
    "    similarity_score = continuous_similarity(template, student_answer)\n",
    "    categorical_result = \"right\" if similarity_score >= threshold else \"wrong\"\n",
    "    return {\n",
    "        \"similarity_score\": similarity_score,\n",
    "        \"categorical_result\": categorical_result\n",
    "    }\n"
   ]
  },
  {
   "cell_type": "code",
   "execution_count": 7,
   "id": "e642f58c-53af-42fd-a25f-4d1dcf3973f7",
   "metadata": {},
   "outputs": [
    {
     "name": "stdout",
     "output_type": "stream",
     "text": [
      "Similarity Score: 0.68\n",
      "Categorical Result: right\n"
     ]
    }
   ],
   "source": [
    "template = \"The quick brown fox jumps over the lazy dog\"\n",
    "student_answer = \"A quick brown fox leaps over a lazy dog\"\n",
    "\n",
    "result = evaluate_answer(template, student_answer)\n",
    "print(f\"Similarity Score: {result['similarity_score']:.2f}\")\n",
    "print(f\"Categorical Result: {result['categorical_result']}\")\n"
   ]
  },
  {
   "cell_type": "code",
   "execution_count": null,
   "id": "b7f25473-2503-4eb8-8747-3a6e1e7c6225",
   "metadata": {},
   "outputs": [],
   "source": []
  }
 ],
 "metadata": {
  "kernelspec": {
   "display_name": "Python 3 (ipykernel)",
   "language": "python",
   "name": "python3"
  },
  "language_info": {
   "codemirror_mode": {
    "name": "ipython",
    "version": 3
   },
   "file_extension": ".py",
   "mimetype": "text/x-python",
   "name": "python",
   "nbconvert_exporter": "python",
   "pygments_lexer": "ipython3",
   "version": "3.11.5"
  }
 },
 "nbformat": 4,
 "nbformat_minor": 5
}
